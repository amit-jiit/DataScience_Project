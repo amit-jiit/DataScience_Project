{
 "cells": [
  {
   "cell_type": "markdown",
   "metadata": {},
   "source": [
    "###### read more about  Latent Dirichlet Allocation (LDA) method in the python using sklearn implementation.\n",
    "https://towardsdatascience.com/evaluate-topic-model-in-python-latent-dirichlet-allocation-lda-7d57484bb5d0"
   ]
  },
  {
   "cell_type": "code",
   "execution_count": 1,
   "metadata": {},
   "outputs": [
    {
     "name": "stderr",
     "output_type": "stream",
     "text": [
      "unable to import 'smart_open.gcs', disabling that module\n"
     ]
    }
   ],
   "source": [
    "# import json\n",
    "import pandas as pd\n",
    "import numpy as np\n",
    "import nltk\n",
    "import spacy\n",
    "from datetime import datetime\n",
    "import gensim\n",
    "import gensim.corpora as corpora\n",
    "from gensim.models.doc2vec import Doc2Vec, TaggedDocument\n",
    "from gensim.test.utils import get_tmpfile, datapath\n",
    "from gensim.utils import simple_preprocess\n",
    "from nltk.corpus import stopwords\n",
    "import warnings\n",
    "warnings.filterwarnings(\"ignore\")"
   ]
  },
  {
   "cell_type": "code",
   "execution_count": 4,
   "metadata": {},
   "outputs": [
    {
     "data": {
      "text/html": [
       "<div>\n",
       "<style scoped>\n",
       "    .dataframe tbody tr th:only-of-type {\n",
       "        vertical-align: middle;\n",
       "    }\n",
       "\n",
       "    .dataframe tbody tr th {\n",
       "        vertical-align: top;\n",
       "    }\n",
       "\n",
       "    .dataframe thead th {\n",
       "        text-align: right;\n",
       "    }\n",
       "</style>\n",
       "<table border=\"1\" class=\"dataframe\">\n",
       "  <thead>\n",
       "    <tr style=\"text-align: right;\">\n",
       "      <th></th>\n",
       "      <th>author</th>\n",
       "      <th>date</th>\n",
       "      <th>like_facebook</th>\n",
       "      <th>summary</th>\n",
       "      <th>tags</th>\n",
       "      <th>title</th>\n",
       "    </tr>\n",
       "  </thead>\n",
       "  <tbody>\n",
       "    <tr>\n",
       "      <th>0</th>\n",
       "      <td>Himani Chandna</td>\n",
       "      <td>25 April, 2020 2:50 pm IST</td>\n",
       "      <td>9879</td>\n",
       "      <td>The Ayush Ministry missive comes after PM Modi...</td>\n",
       "      <td>Politics,Pre-Truth,Governance,Diplomacy,Econom...</td>\n",
       "      <td>Modi govt wants states to start producing herb...</td>\n",
       "    </tr>\n",
       "    <tr>\n",
       "      <th>1</th>\n",
       "      <td>PTI</td>\n",
       "      <td>25 April, 2020 11:56 am IST</td>\n",
       "      <td>11020</td>\n",
       "      <td>The shops allowed to open will have to functio...</td>\n",
       "      <td>Politics,Pre-Truth,Governance,Diplomacy,Econom...</td>\n",
       "      <td>New MHA order allows shops to open, but malls,...</td>\n",
       "    </tr>\n",
       "    <tr>\n",
       "      <th>2</th>\n",
       "      <td>PTI</td>\n",
       "      <td>25 April, 2020 5:00 pm IST</td>\n",
       "      <td>5102</td>\n",
       "      <td>The number of coronavirus cases in Karnataka h...</td>\n",
       "      <td>Politics,Pre-Truth,Governance,Diplomacy,Econom...</td>\n",
       "      <td>Journalist who visited Bengaluru hotspots amon...</td>\n",
       "    </tr>\n",
       "    <tr>\n",
       "      <th>3</th>\n",
       "      <td>Simrin Sirur</td>\n",
       "      <td>25 April, 2020 12:03 pm IST</td>\n",
       "      <td>7980</td>\n",
       "      <td>Ahmedabad is one of India’s worst-affected cit...</td>\n",
       "      <td>Politics,Pre-Truth,Governance,Diplomacy,Econom...</td>\n",
       "      <td>‘Low testing, no healthcare’ — residents of Ah...</td>\n",
       "    </tr>\n",
       "    <tr>\n",
       "      <th>4</th>\n",
       "      <td>Taruka Srivastav</td>\n",
       "      <td>25 April, 2020 1:26 pm IST</td>\n",
       "      <td>19537</td>\n",
       "      <td>During the Covid-19 crisis, people in Rajastha...</td>\n",
       "      <td>Politics,Pre-Truth,Governance,Diplomacy,Econom...</td>\n",
       "      <td>Rajasthan and Kerala can teach the world how t...</td>\n",
       "    </tr>\n",
       "  </tbody>\n",
       "</table>\n",
       "</div>"
      ],
      "text/plain": [
       "             author                          date  like_facebook  \\\n",
       "0    Himani Chandna    25 April, 2020 2:50 pm IST           9879   \n",
       "1               PTI   25 April, 2020 11:56 am IST          11020   \n",
       "2               PTI    25 April, 2020 5:00 pm IST           5102   \n",
       "3      Simrin Sirur   25 April, 2020 12:03 pm IST           7980   \n",
       "4  Taruka Srivastav    25 April, 2020 1:26 pm IST          19537   \n",
       "\n",
       "                                             summary  \\\n",
       "0  The Ayush Ministry missive comes after PM Modi...   \n",
       "1  The shops allowed to open will have to functio...   \n",
       "2  The number of coronavirus cases in Karnataka h...   \n",
       "3  Ahmedabad is one of India’s worst-affected cit...   \n",
       "4  During the Covid-19 crisis, people in Rajastha...   \n",
       "\n",
       "                                                tags  \\\n",
       "0  Politics,Pre-Truth,Governance,Diplomacy,Econom...   \n",
       "1  Politics,Pre-Truth,Governance,Diplomacy,Econom...   \n",
       "2  Politics,Pre-Truth,Governance,Diplomacy,Econom...   \n",
       "3  Politics,Pre-Truth,Governance,Diplomacy,Econom...   \n",
       "4  Politics,Pre-Truth,Governance,Diplomacy,Econom...   \n",
       "\n",
       "                                               title  \n",
       "0  Modi govt wants states to start producing herb...  \n",
       "1  New MHA order allows shops to open, but malls,...  \n",
       "2  Journalist who visited Bengaluru hotspots amon...  \n",
       "3  ‘Low testing, no healthcare’ — residents of Ah...  \n",
       "4  Rajasthan and Kerala can teach the world how t...  "
      ]
     },
     "execution_count": 4,
     "metadata": {},
     "output_type": "execute_result"
    }
   ],
   "source": [
    "# load csv file\n",
    "\n",
    "df = pd.read_csv(\"news_web.csv\")\n",
    "\n",
    "#drop unwanted column\n",
    "df = df.drop(columns = 'Unnamed: 0' )\n",
    "df.head()"
   ]
  },
  {
   "cell_type": "code",
   "execution_count": 10,
   "metadata": {},
   "outputs": [],
   "source": [
    "# saving df to pickle\n",
    "df.to_pickle('./news_web.pkl')"
   ]
  },
  {
   "cell_type": "code",
   "execution_count": 11,
   "metadata": {},
   "outputs": [],
   "source": [
    "raw_df = pd.read_pickle('./news_web.pkl')"
   ]
  },
  {
   "cell_type": "markdown",
   "metadata": {},
   "source": [
    "##### converting string to datetime, dropping null/duplicate values"
   ]
  },
  {
   "cell_type": "code",
   "execution_count": 106,
   "metadata": {},
   "outputs": [],
   "source": [
    "\n",
    "# def cleandata(raw_df):\n",
    " \n",
    "from dateutil import parser\n",
    "\n",
    "def convert_to_dt(s):\n",
    "    try:\n",
    "        return parser.parse(s)\n",
    "    except Exception:\n",
    "        return np.nan "
   ]
  },
  {
   "cell_type": "code",
   "execution_count": 107,
   "metadata": {},
   "outputs": [
    {
     "data": {
      "text/plain": [
       "datetime.datetime(2020, 4, 25, 14, 50)"
      ]
     },
     "execution_count": 107,
     "metadata": {},
     "output_type": "execute_result"
    }
   ],
   "source": [
    "from dateutil import parser\n",
    "s= '25 April, 2020, 2:50, pm, IST'\n",
    "\n",
    "parser.parse(\"Tue Jun 22 07:46:22 EST 2010\")\n",
    "parser.parse(s)\n",
    "# dt = datetime.strptime('25 April, 2020, 2:50, pm, IST', '%d %B, %Y, %I:%M, %p, %Z')\n",
    "# # dt = datetime.strptime('25 April, 2020, 2:50, pm', '%d %B, %Y, %I:%M, %p')\n",
    "\n",
    "\n",
    "# convert_to_dt(s)"
   ]
  },
  {
   "cell_type": "code",
   "execution_count": 149,
   "metadata": {
    "scrolled": true
   },
   "outputs": [
    {
     "name": "stdout",
     "output_type": "stream",
     "text": [
      "date       2958\n",
      "summary    2958\n",
      "title      2958\n",
      "dtype: int64 \n",
      "\n",
      "date       2958\n",
      "summary    2955\n",
      "title      2958\n",
      "dtype: int64 \n",
      "\n",
      "2958 \n",
      "\n",
      "2955 \n",
      "\n",
      "2953    On citizenship Act, Shiv Sena’s deputy leader ...\n",
      "2954    The US Embassy in New Delhi has listed out pre...\n",
      "2955    The Bharat Bachao rally was attended by Congre...\n",
      "2956    Jamia Milia Islamia saw massive protests Frida...\n",
      "2957    Besides Abdullah, his son and former chief min...\n",
      "Name: summary, dtype: object \n",
      "\n"
     ]
    }
   ],
   "source": [
    "\"columns into another df  \"\n",
    "\n",
    "new_df = raw_df[['date','summary','title']]\n",
    "\n",
    "\" checking null value\"\n",
    "print(new_df.isnull().count(),\"\\n\")\n",
    "\n",
    "print(new_df.count(),\"\\n\")\n",
    "\n",
    "print(new_df['summary'].isna().count(),\"\\n\")\n",
    "print(new_df['summary'].count(),\"\\n\")\n",
    "print(new_df['summary'].tail(),\"\\n\")"
   ]
  },
  {
   "cell_type": "code",
   "execution_count": 151,
   "metadata": {},
   "outputs": [
    {
     "name": "stdout",
     "output_type": "stream",
     "text": [
      "date       2955\n",
      "summary    2955\n",
      "title      2955\n",
      "dtype: int64 \n",
      "\n",
      "date       2955\n",
      "summary    2955\n",
      "title      2955\n",
      "dtype: int64 \n",
      "\n"
     ]
    }
   ],
   "source": [
    "new_df.dropna(inplace = True)\n",
    "\n",
    "\" checking null value\"\n",
    "print(new_df.isnull().count(),\"\\n\")\n",
    "\n",
    "print(new_df.count(),\"\\n\")\n"
   ]
  },
  {
   "cell_type": "code",
   "execution_count": 109,
   "metadata": {},
   "outputs": [
    {
     "name": "stdout",
     "output_type": "stream",
     "text": [
      "0      25 April, 2020 2:50 pm IST\n",
      "1     25 April, 2020 11:56 am IST\n",
      "2      25 April, 2020 5:00 pm IST\n",
      "Name: date, dtype: object\n"
     ]
    }
   ],
   "source": [
    "print(new_df.date.head(3))"
   ]
  },
  {
   "cell_type": "code",
   "execution_count": 113,
   "metadata": {},
   "outputs": [
    {
     "data": {
      "text/plain": [
       "2955   2019-12-14 17:14:00\n",
       "2956   2019-12-14 16:20:00\n",
       "2957   2019-12-14 17:05:00\n",
       "Name: date, dtype: datetime64[ns]"
      ]
     },
     "execution_count": 113,
     "metadata": {},
     "output_type": "execute_result"
    }
   ],
   "source": [
    "new_df['date'] = new_df['date'].apply(convert_to_dt)\n",
    "new_df['date'].tail(3)"
   ]
  },
  {
   "cell_type": "markdown",
   "metadata": {},
   "source": [
    "## Preprocessing\n"
   ]
  },
  {
   "cell_type": "code",
   "execution_count": 129,
   "metadata": {},
   "outputs": [],
   "source": [
    "\" Helper Functions \"\n",
    "\n",
    "def article_to_words(articles):\n",
    "    '''tokenizes articles; yeilds list of words for each article'''\n",
    "    for article in articles:\n",
    "        yield(gensim.utils.simple_preprocess(article, deacc=True))  # deacc=True removes punctuations\n",
    "        \n",
    "def remove_stopwords(texts):\n",
    "    stop_words = stopwords.words('english')\n",
    "    stop_words.extend(['from', 'subject', 're', 'edu', 'use', 'say', 'also', 'would', 'may'])\n",
    "    return [[word for word in simple_preprocess(str(doc)) if word not in stop_words] for doc in texts]\n",
    "\n",
    "def make_bigrams(texts):\n",
    "    '''Applies the bigram model(defined below) on each document'''\n",
    "    return [bigram_mod[doc] for doc in texts]\n",
    "\n",
    "nlp = spacy.load(\"en_core_web_sm\", disable=['parser', 'ner'])\n",
    "\n",
    "def lemmatization(texts, allowed_postags=['NOUN', 'ADJ', 'VERB', 'ADV']):\n",
    "    texts_out = []\n",
    "    for sent in texts:\n",
    "        doc = nlp(\" \".join(sent))\n",
    "        texts_out.append([token.lemma_ for token in doc if token.pos_ in allowed_postags])\n",
    "    return texts_out"
   ]
  },
  {
   "cell_type": "code",
   "execution_count": 134,
   "metadata": {},
   "outputs": [],
   "source": [
    "def preprocess(new_df):\n",
    "    '''\n",
    "    Input: clean dataframe\n",
    "    Output: list of articles after preprocess, bigram model\n",
    "    '''\n",
    "    \"Corpus of content of all articles\"\n",
    "    articles = list(new_df['summary'])  \n",
    "    \n",
    "    \" Each article is a list of all it's words after simple_preprocess\"\n",
    "    data_words = list(article_to_words(articles))        \n",
    "    \n",
    "    common_terms = [\"of\", \"with\", \"without\", \"and\", \"or\", \"the\", \"a\"]\n",
    "    \n",
    "    \" higher threshold fewer phrases.\"\n",
    "    bigram = gensim.models.Phrases(data_words, min_count=4, threshold=30, common_terms=common_terms)\n",
    "    \n",
    "    \" wrapper \"\n",
    "    bigram_mod = gensim.models.phrases.Phraser(bigram)                  \n",
    "    \n",
    "    return data_words, bigram_mod"
   ]
  },
  {
   "cell_type": "code",
   "execution_count": 136,
   "metadata": {},
   "outputs": [
    {
     "data": {
      "text/html": [
       "<div>\n",
       "<style scoped>\n",
       "    .dataframe tbody tr th:only-of-type {\n",
       "        vertical-align: middle;\n",
       "    }\n",
       "\n",
       "    .dataframe tbody tr th {\n",
       "        vertical-align: top;\n",
       "    }\n",
       "\n",
       "    .dataframe thead th {\n",
       "        text-align: right;\n",
       "    }\n",
       "</style>\n",
       "<table border=\"1\" class=\"dataframe\">\n",
       "  <thead>\n",
       "    <tr style=\"text-align: right;\">\n",
       "      <th></th>\n",
       "      <th>date</th>\n",
       "      <th>summary</th>\n",
       "      <th>title</th>\n",
       "    </tr>\n",
       "  </thead>\n",
       "  <tbody>\n",
       "    <tr>\n",
       "      <th>0</th>\n",
       "      <td>2020-04-25 14:50:00</td>\n",
       "      <td>The Ayush Ministry missive comes after PM Modi...</td>\n",
       "      <td>Modi govt wants states to start producing herb...</td>\n",
       "    </tr>\n",
       "    <tr>\n",
       "      <th>1</th>\n",
       "      <td>2020-04-25 11:56:00</td>\n",
       "      <td>The shops allowed to open will have to functio...</td>\n",
       "      <td>New MHA order allows shops to open, but malls,...</td>\n",
       "    </tr>\n",
       "    <tr>\n",
       "      <th>2</th>\n",
       "      <td>2020-04-25 17:00:00</td>\n",
       "      <td>The number of coronavirus cases in Karnataka h...</td>\n",
       "      <td>Journalist who visited Bengaluru hotspots amon...</td>\n",
       "    </tr>\n",
       "    <tr>\n",
       "      <th>3</th>\n",
       "      <td>2020-04-25 12:03:00</td>\n",
       "      <td>Ahmedabad is one of India’s worst-affected cit...</td>\n",
       "      <td>‘Low testing, no healthcare’ — residents of Ah...</td>\n",
       "    </tr>\n",
       "    <tr>\n",
       "      <th>4</th>\n",
       "      <td>2020-04-25 13:26:00</td>\n",
       "      <td>During the Covid-19 crisis, people in Rajastha...</td>\n",
       "      <td>Rajasthan and Kerala can teach the world how t...</td>\n",
       "    </tr>\n",
       "  </tbody>\n",
       "</table>\n",
       "</div>"
      ],
      "text/plain": [
       "                 date                                            summary  \\\n",
       "0 2020-04-25 14:50:00  The Ayush Ministry missive comes after PM Modi...   \n",
       "1 2020-04-25 11:56:00  The shops allowed to open will have to functio...   \n",
       "2 2020-04-25 17:00:00  The number of coronavirus cases in Karnataka h...   \n",
       "3 2020-04-25 12:03:00  Ahmedabad is one of India’s worst-affected cit...   \n",
       "4 2020-04-25 13:26:00  During the Covid-19 crisis, people in Rajastha...   \n",
       "\n",
       "                                               title  \n",
       "0  Modi govt wants states to start producing herb...  \n",
       "1  New MHA order allows shops to open, but malls,...  \n",
       "2  Journalist who visited Bengaluru hotspots amon...  \n",
       "3  ‘Low testing, no healthcare’ — residents of Ah...  \n",
       "4  Rajasthan and Kerala can teach the world how t...  "
      ]
     },
     "execution_count": 136,
     "metadata": {},
     "output_type": "execute_result"
    }
   ],
   "source": [
    "new_df.head()"
   ]
  },
  {
   "cell_type": "code",
   "execution_count": 140,
   "metadata": {},
   "outputs": [
    {
     "name": "stdout",
     "output_type": "stream",
     "text": [
      "date       2958\n",
      "summary    2955\n",
      "title      2958\n",
      "dtype: int64\n"
     ]
    },
    {
     "data": {
      "text/plain": [
       "2958"
      ]
     },
     "execution_count": 140,
     "metadata": {},
     "output_type": "execute_result"
    }
   ],
   "source": []
  },
  {
   "cell_type": "code",
   "execution_count": 152,
   "metadata": {},
   "outputs": [],
   "source": [
    "data_words, bigram_mod = preprocess(new_df)\n"
   ]
  },
  {
   "cell_type": "code",
   "execution_count": 157,
   "metadata": {},
   "outputs": [
    {
     "data": {
      "text/plain": [
       "[['the',\n",
       "  'ayush',\n",
       "  'ministry',\n",
       "  'missive',\n",
       "  'comes',\n",
       "  'after',\n",
       "  'pm',\n",
       "  'modi',\n",
       "  'on',\n",
       "  'april',\n",
       "  'recommended',\n",
       "  'the',\n",
       "  'use',\n",
       "  'of',\n",
       "  'alternative',\n",
       "  'medicine',\n",
       "  'to',\n",
       "  'strengthen',\n",
       "  'immunity',\n",
       "  'against',\n",
       "  'covid'],\n",
       " ['the',\n",
       "  'shops',\n",
       "  'allowed',\n",
       "  'to',\n",
       "  'open',\n",
       "  'will',\n",
       "  'have',\n",
       "  'to',\n",
       "  'function',\n",
       "  'with',\n",
       "  'strength',\n",
       "  'of',\n",
       "  'workers',\n",
       "  'who',\n",
       "  'will',\n",
       "  'have',\n",
       "  'to',\n",
       "  'wear',\n",
       "  'masks',\n",
       "  'and',\n",
       "  'follow',\n",
       "  'social',\n",
       "  'distancing'],\n",
       " ['the',\n",
       "  'number',\n",
       "  'of',\n",
       "  'coronavirus',\n",
       "  'cases',\n",
       "  'in',\n",
       "  'karnataka',\n",
       "  'has',\n",
       "  'risen',\n",
       "  'to',\n",
       "  'of',\n",
       "  'whom',\n",
       "  'have',\n",
       "  'been',\n",
       "  'discharged']]"
      ]
     },
     "execution_count": 157,
     "metadata": {},
     "output_type": "execute_result"
    }
   ],
   "source": [
    "\" tolkenization\"\n",
    "data_words[0:3]"
   ]
  },
  {
   "cell_type": "code",
   "execution_count": 164,
   "metadata": {},
   "outputs": [
    {
     "data": {
      "text/plain": [
       "<gensim.models.phrases.Phraser at 0x2040549dcf8>"
      ]
     },
     "execution_count": 164,
     "metadata": {},
     "output_type": "execute_result"
    }
   ],
   "source": [
    "bigram_mod"
   ]
  },
  {
   "cell_type": "code",
   "execution_count": 165,
   "metadata": {},
   "outputs": [],
   "source": [
    "data_words_lemmatized = lemmatization(data_words)"
   ]
  },
  {
   "cell_type": "code",
   "execution_count": 167,
   "metadata": {},
   "outputs": [
    {
     "data": {
      "text/plain": [
       "[['missive',\n",
       "  'come',\n",
       "  'pm',\n",
       "  'modi',\n",
       "  'recommend',\n",
       "  'use',\n",
       "  'alternative',\n",
       "  'medicine',\n",
       "  'strengthen',\n",
       "  'immunity'],\n",
       " ['shop',\n",
       "  'allow',\n",
       "  'open',\n",
       "  'will',\n",
       "  'function',\n",
       "  'strength',\n",
       "  'worker',\n",
       "  'will',\n",
       "  'wear',\n",
       "  'mask',\n",
       "  'follow',\n",
       "  'social',\n",
       "  'distancing'],\n",
       " ['number', 'case', 'rise', 'discharge']]"
      ]
     },
     "execution_count": 167,
     "metadata": {},
     "output_type": "execute_result"
    }
   ],
   "source": [
    "data_words_lemmatized[0:3]"
   ]
  },
  {
   "cell_type": "code",
   "execution_count": 169,
   "metadata": {},
   "outputs": [],
   "source": [
    "data_words_nostops = remove_stopwords(data_words_lemmatized)"
   ]
  },
  {
   "cell_type": "code",
   "execution_count": 171,
   "metadata": {},
   "outputs": [
    {
     "data": {
      "text/plain": [
       "[['missive',\n",
       "  'come',\n",
       "  'pm',\n",
       "  'modi',\n",
       "  'recommend',\n",
       "  'alternative',\n",
       "  'medicine',\n",
       "  'strengthen',\n",
       "  'immunity'],\n",
       " ['shop',\n",
       "  'allow',\n",
       "  'open',\n",
       "  'function',\n",
       "  'strength',\n",
       "  'worker',\n",
       "  'wear',\n",
       "  'mask',\n",
       "  'follow',\n",
       "  'social',\n",
       "  'distancing'],\n",
       " ['number', 'case', 'rise', 'discharge']]"
      ]
     },
     "execution_count": 171,
     "metadata": {},
     "output_type": "execute_result"
    }
   ],
   "source": [
    "data_words_nostops[0:3]"
   ]
  },
  {
   "cell_type": "code",
   "execution_count": 173,
   "metadata": {},
   "outputs": [
    {
     "data": {
      "text/plain": [
       "[['missive',\n",
       "  'come',\n",
       "  'pm_modi',\n",
       "  'recommend',\n",
       "  'alternative',\n",
       "  'medicine',\n",
       "  'strengthen',\n",
       "  'immunity'],\n",
       " ['shop',\n",
       "  'allow',\n",
       "  'open',\n",
       "  'function',\n",
       "  'strength',\n",
       "  'worker',\n",
       "  'wear',\n",
       "  'mask',\n",
       "  'follow',\n",
       "  'social_distancing'],\n",
       " ['number', 'case', 'rise', 'discharge']]"
      ]
     },
     "execution_count": 173,
     "metadata": {},
     "output_type": "execute_result"
    }
   ],
   "source": [
    "data_final = make_bigrams(data_words_nostops)\n",
    "data_final[0:3]"
   ]
  },
  {
   "cell_type": "code",
   "execution_count": 174,
   "metadata": {},
   "outputs": [
    {
     "data": {
      "text/plain": [
       "[['missive',\n",
       "  'come',\n",
       "  'pm_modi',\n",
       "  'recommend',\n",
       "  'alternative',\n",
       "  'medicine',\n",
       "  'strengthen',\n",
       "  'immunity'],\n",
       " ['shop',\n",
       "  'allow',\n",
       "  'open',\n",
       "  'function',\n",
       "  'strength',\n",
       "  'worker',\n",
       "  'wear',\n",
       "  'mask',\n",
       "  'follow',\n",
       "  'social_distancing'],\n",
       " ['number', 'case', 'rise', 'discharge']]"
      ]
     },
     "execution_count": 174,
     "metadata": {},
     "output_type": "execute_result"
    }
   ],
   "source": [
    "data_final = make_bigrams(data_words_nostops)\n",
    "data_final[0:3]"
   ]
  },
  {
   "cell_type": "code",
   "execution_count": 177,
   "metadata": {},
   "outputs": [
    {
     "data": {
      "text/plain": [
       "[[(0, 1), (1, 1), (2, 1), (3, 1), (4, 1), (5, 1), (6, 1), (7, 1)],\n",
       " [(8, 1),\n",
       "  (9, 1),\n",
       "  (10, 1),\n",
       "  (11, 1),\n",
       "  (12, 1),\n",
       "  (13, 1),\n",
       "  (14, 1),\n",
       "  (15, 1),\n",
       "  (16, 1),\n",
       "  (17, 1)],\n",
       " [(18, 1), (19, 1), (20, 1), (21, 1)]]"
      ]
     },
     "execution_count": 177,
     "metadata": {},
     "output_type": "execute_result"
    }
   ],
   "source": [
    "word_dict = corpora.Dictionary(data_final)\n",
    "\n",
    "# Bag of words (Document Term Frequency)\n",
    "# list of tuples for each doc- (id,frequency) of word in that document\n",
    "corpus = [word_dict.doc2bow(text) for text in data_final]\n",
    "corpus[0:3]"
   ]
  },
  {
   "cell_type": "markdown",
   "metadata": {},
   "source": [
    "## Modeling"
   ]
  },
  {
   "cell_type": "markdown",
   "metadata": {},
   "source": [
    "## LDA(Latent Dirichlet Allocation)"
   ]
  },
  {
   "cell_type": "code",
   "execution_count": 191,
   "metadata": {},
   "outputs": [],
   "source": [
    "def compute_coherence_values(dictionary, corpus, texts, limit, start=2, step=3):\n",
    "    \"\"\"\n",
    "    Compute c_v coherence for various number of topics\n",
    "\n",
    "    Parameters:\n",
    "    ----------\n",
    "    dictionary : Gensim dictionary\n",
    "    corpus : Gensim corpus\n",
    "    texts : List of input texts\n",
    "    limit : Max num of topics\n",
    "\n",
    "    Returns:\n",
    "    -------\n",
    "    model_list : List of LDA topic models`\n",
    "    coherence_values : Coherence values corresponding to the LDA model with respective number of topics\n",
    "    \"\"\"\n",
    "    coherence_values = []\n",
    "    model_list = []\n",
    "    for num_topics in range(start, limit, step):\n",
    "        model = gensim.models.LdaMulticore(corpus=corpus,\n",
    "                                           id2word=word_dict,\n",
    "                                           num_topics=num_topics,\n",
    "                                           random_state=100,\n",
    "                                           passes=20,\n",
    "                                           per_word_topics=True,\n",
    "                                           workers=25)\n",
    "        model_list.append(model)\n",
    "        coherencemodel = gensim.models.CoherenceModel(model=model, texts=texts, dictionary=dictionary, coherence='c_v')\n",
    "        coherence_values.append(coherencemodel.get_coherence())\n",
    "        print(num_topics)\n",
    "    return model_list, coherence_values"
   ]
  },
  {
   "cell_type": "code",
   "execution_count": 194,
   "metadata": {},
   "outputs": [
    {
     "name": "stdout",
     "output_type": "stream",
     "text": [
      "5\n",
      "10\n",
      "15\n",
      "20\n",
      "25\n"
     ]
    }
   ],
   "source": [
    "start=5; limit=30; step=5\n",
    "model_list, coherence_values = compute_coherence_values(dictionary=word_dict, corpus=corpus,\n",
    "                                texts=data_final, start=start, limit=limit, step=step)"
   ]
  },
  {
   "cell_type": "code",
   "execution_count": 195,
   "metadata": {},
   "outputs": [
    {
     "data": {
      "image/png": "[encoded data removed]",
      "text/plain": [
       "<Figure size 432x288 with 1 Axes>"
      ]
     },
     "metadata": {
      "needs_background": "light"
     },
     "output_type": "display_data"
    }
   ],
   "source": [
    "import matplotlib.pyplot as plt\n",
    "%matplotlib inline\n",
    "\n",
    "x = range(start, limit, step)\n",
    "\n",
    "plt.plot(x, coherence_values)\n",
    "\n",
    "plt.xlabel(\"Num Topics\")\n",
    "plt.ylabel(\"Coherence score\")\n",
    "plt.legend((\"coherence_values\"), loc='best')\n",
    "\n",
    "plt.grid()\n",
    "plt.show()"
   ]
  },
  {
   "cell_type": "markdown",
   "metadata": {},
   "source": [
    "        The coherence value seems to be highest (~0.33) for 25 topics"
   ]
  },
  {
   "cell_type": "code",
   "execution_count": 199,
   "metadata": {},
   "outputs": [],
   "source": [
    "model_lda = model_list[coherence_values.index(max(coherence_values))]  # Model with highest coherence\n",
    "# model_lda.show_topics(-1)\n",
    "\n",
    "# Saving model to disk\n",
    "\n",
    "temp_file = datapath(\"model_lda\")\n",
    "model_lda.save(temp_file)\n",
    "\n",
    "# To load from disk: model_lda = LdaModel.load(temp_file)"
   ]
  },
  {
   "cell_type": "markdown",
   "metadata": {},
   "source": [
    "### Doc2Vec"
   ]
  },
  {
   "cell_type": "code",
   "execution_count": null,
   "metadata": {},
   "outputs": [],
   "source": []
  },
  {
   "cell_type": "code",
   "execution_count": 200,
   "metadata": {},
   "outputs": [],
   "source": [
    "def doc2vec(data_final):\n",
    "    '''\n",
    "    Input: Cleaned and preprocessed data\n",
    "    Output: doc2vec model trained on given data\n",
    "    '''\n",
    "    # tagging documents\n",
    "    tagged_data = [TaggedDocument(words=words, tags=[str(i)]) for i, words in enumerate(data_final)]  \n",
    "    \n",
    "    model = Doc2Vec(tagged_data, window=4, min_count=1, workers=10)\n",
    "    \n",
    "    return model"
   ]
  },
  {
   "cell_type": "code",
   "execution_count": 202,
   "metadata": {},
   "outputs": [
    {
     "data": {
      "text/plain": [
       "<gensim.models.doc2vec.Doc2Vec at 0x20408f538d0>"
      ]
     },
     "execution_count": 202,
     "metadata": {},
     "output_type": "execute_result"
    }
   ],
   "source": [
    "model_doc2vec = doc2vec(data_final)\n",
    "model_doc2vec"
   ]
  },
  {
   "cell_type": "code",
   "execution_count": 201,
   "metadata": {},
   "outputs": [],
   "source": [
    "# Saving model to disk\n",
    "fname = get_tmpfile(\"model_doc2vec\")\n",
    "model_doc2vec.save(fname)\n",
    "\n",
    "# To load from disk: model = Doc2Vec.load(fname)"
   ]
  },
  {
   "cell_type": "code",
   "execution_count": null,
   "metadata": {},
   "outputs": [],
   "source": []
  },
  {
   "cell_type": "code",
   "execution_count": null,
   "metadata": {},
   "outputs": [],
   "source": []
  }
 ],
 "metadata": {
  "kernelspec": {
   "display_name": "Python 3",
   "language": "python",
   "name": "python3"
  },
  "language_info": {
   "codemirror_mode": {
    "name": "ipython",
    "version": 3
   },
   "file_extension": ".py",
   "mimetype": "text/x-python",
   "name": "python",
   "nbconvert_exporter": "python",
   "pygments_lexer": "ipython3",
   "version": "3.7.3"
  }
 },
 "nbformat": 4,
 "nbformat_minor": 4
}
