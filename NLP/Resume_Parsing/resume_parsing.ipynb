{
 "cells": [
  {
   "cell_type": "markdown",
   "metadata": {},
   "source": [
    "### https://spacy.io/usage/training#basics"
   ]
  },
  {
   "cell_type": "code",
   "execution_count": 1,
   "metadata": {},
   "outputs": [],
   "source": [
    "import spacy\n",
    "import pickle\n",
    "import random"
   ]
  },
  {
   "cell_type": "markdown",
   "metadata": {},
   "source": [
    "we have to collect training data manually"
   ]
  },
  {
   "cell_type": "code",
   "execution_count": 3,
   "metadata": {},
   "outputs": [
    {
     "data": {
      "text/plain": [
       "('Govardhana K Senior Software Engineer  Bengaluru, Karnataka, Karnataka - Email me on Indeed: indeed.com/r/Govardhana-K/ b2de315d95905b68  Total IT experience 5 Years 6 Months Cloud Lending Solutions INC 4 Month • Salesforce Developer Oracle 5 Years 2 Month • Core Java Developer Languages Core Java, Go Lang Oracle PL-SQL programming, Sales Force Developer with APEX.  Designations & Promotions  Willing to relocate: Anywhere  WORK EXPERIENCE  Senior Software Engineer  Cloud Lending Solutions -  Bangalore, Karnataka -  January 2018 to Present  Present  Senior Consultant  Oracle -  Bangalore, Karnataka -  November 2016 to December 2017  Staff Consultant  Oracle -  Bangalore, Karnataka -  January 2014 to October 2016  Associate Consultant  Oracle -  Bangalore, Karnataka -  November 2012 to December 2013  EDUCATION  B.E in Computer Science Engineering  Adithya Institute of Technology -  Tamil Nadu  September 2008 to June 2012  https://www.indeed.com/r/Govardhana-K/b2de315d95905b68?isid=rex-download&ikw=download-top&co=IN https://www.indeed.com/r/Govardhana-K/b2de315d95905b68?isid=rex-download&ikw=download-top&co=IN   SKILLS  APEX. (Less than 1 year), Data Structures (3 years), FLEXCUBE (5 years), Oracle (5 years), Algorithms (3 years)  LINKS  https://www.linkedin.com/in/govardhana-k-61024944/  ADDITIONAL INFORMATION  Technical Proficiency:  Languages: Core Java, Go Lang, Data Structures & Algorithms, Oracle PL-SQL programming, Sales Force with APEX. Tools: RADTool, Jdeveloper, NetBeans, Eclipse, SQL developer, PL/SQL Developer, WinSCP, Putty Web Technologies: JavaScript, XML, HTML, Webservice  Operating Systems: Linux, Windows Version control system SVN & Git-Hub Databases: Oracle Middleware: Web logic, OC4J Product FLEXCUBE: Oracle FLEXCUBE Versions 10.x, 11.x and 12.x  https://www.linkedin.com/in/govardhana-k-61024944/',\n",
       " {'entities': [(1749, 1755, 'Companies worked at'),\n",
       "   (1696, 1702, 'Companies worked at'),\n",
       "   (1417, 1423, 'Companies worked at'),\n",
       "   (1356, 1793, 'Skills'),\n",
       "   (1209, 1215, 'Companies worked at'),\n",
       "   (1136, 1248, 'Skills'),\n",
       "   (928, 932, 'Graduation Year'),\n",
       "   (858, 889, 'College Name'),\n",
       "   (821, 856, 'Degree'),\n",
       "   (787, 791, 'Graduation Year'),\n",
       "   (744, 750, 'Companies worked at'),\n",
       "   (722, 742, 'Designation'),\n",
       "   (658, 664, 'Companies worked at'),\n",
       "   (640, 656, 'Designation'),\n",
       "   (574, 580, 'Companies worked at'),\n",
       "   (555, 573, 'Designation'),\n",
       "   (470, 493, 'Companies worked at'),\n",
       "   (444, 469, 'Designation'),\n",
       "   (308, 314, 'Companies worked at'),\n",
       "   (234, 240, 'Companies worked at'),\n",
       "   (175, 198, 'Companies worked at'),\n",
       "   (93, 137, 'Email Address'),\n",
       "   (39, 48, 'Location'),\n",
       "   (13, 38, 'Designation'),\n",
       "   (0, 12, 'Name')]})"
      ]
     },
     "execution_count": 3,
     "metadata": {},
     "output_type": "execute_result"
    }
   ],
   "source": [
    "train_data = pickle.load(open('train_data.pkl','rb'))\n",
    "\n",
    "train_data[0]                         \n",
    "                         \n",
    "\n",
    "                         "
   ]
  },
  {
   "cell_type": "code",
   "execution_count": 10,
   "metadata": {},
   "outputs": [],
   "source": [
    "\"Create a blank model of a given language class.\"\n",
    "\n",
    "nlp = spacy.blank('en')\n",
    "\n",
    "def train_model(train_data):\n",
    "    # remove pipeline and ner in blank model\n",
    "    if 'ner' not in nlp.pipe_names:\n",
    "        ner = nlp.create_pipe('ner')\n",
    "        \"add ner at last position of pipeline \"\n",
    "        nlp.add_pipe(ner,last = True)\n",
    "        \n",
    "    \"add labels in pipeline\"\n",
    "    #add annotation in train data\n",
    "    for _, annotation in train_data:\n",
    "        for ent in annotation['entities']:\n",
    "            ner.add_label(ent[2]) # tuple (13, 38, 'Designation')-- start,end,entities\n",
    "            \n",
    "    \"names of other pipes to disable them during pipelines\"\n",
    "    other_pipes = [pipe for pipe in nlp.pipe_names if pipe != 'ner'] # identifying other pipe than ner  \n",
    "    with nlp.disable_pipes(*other_pipes): # now remove those pipelines \n",
    "        optimizer = nlp.begin_training() # only train ner\n",
    "        for itn in range(10): # training for 10 iterations\n",
    "            print(\"starting iteration\"+ str(itn))\n",
    "            random.shuffle(train_data) # shuffling training data for every iteration\n",
    "            \n",
    "            losses = {}\n",
    "            index = 0\n",
    "            for text,annotation in train_data:\n",
    "                \n",
    "                try:\n",
    "                    \n",
    "                    \n",
    "                    nlp.update(\n",
    "                    [text],\n",
    "                    [annotation],\n",
    "                    drop = 0.2,\n",
    "                    sgd = optimizer,\n",
    "                    losses = losses)\n",
    "                except Exception as e:\n",
    "                    pass\n",
    "            print(losses)\n",
    "        \n",
    "        \n",
    "        "
   ]
  },
  {
   "cell_type": "code",
   "execution_count": 11,
   "metadata": {},
   "outputs": [
    {
     "name": "stdout",
     "output_type": "stream",
     "text": [
      "starting iteration0\n",
      "{'ner': 17241.175581975833}\n",
      "starting iteration1\n",
      "{'ner': 9733.065421542775}\n",
      "starting iteration2\n",
      "{'ner': 8138.210073872656}\n",
      "starting iteration3\n",
      "{'ner': 7830.792881356394}\n",
      "starting iteration4\n",
      "{'ner': 8878.712202514576}\n",
      "starting iteration5\n",
      "{'ner': 6878.779171646867}\n",
      "starting iteration6\n",
      "{'ner': 5362.343184493837}\n",
      "starting iteration7\n",
      "{'ner': 4811.68962266762}\n",
      "starting iteration8\n",
      "{'ner': 5022.899402466596}\n",
      "starting iteration9\n",
      "{'ner': 5357.637624043322}\n"
     ]
    }
   ],
   "source": [
    "train_model(train_data)"
   ]
  },
  {
   "cell_type": "code",
   "execution_count": 12,
   "metadata": {},
   "outputs": [],
   "source": [
    "nlp.to_disk('nlp_resume_model') # to save model"
   ]
  },
  {
   "cell_type": "code",
   "execution_count": 17,
   "metadata": {},
   "outputs": [],
   "source": [
    "## nlp_model = spacy.load('nlp_resume_model') #to load trained model"
   ]
  },
  {
   "cell_type": "code",
   "execution_count": 13,
   "metadata": {},
   "outputs": [
    {
     "data": {
      "text/plain": [
       "(\"Shubham Mittal System Engineer - Infosys Limited  Mysore, Karnataka - Email me on Indeed: indeed.com/r/Shubham-Mittal/4b29ab0545b0f67f  • Having 2.0 Years of Experience as a Software Developer (System Engineer) in the IT industry. • Presently working as Senior System Engineer. • Functionally Good with Complete Order fulfillment's journey including Sales and service Cloud. • Expertise in implementing SQL, SOQL, SOSL, HTML, JavaScript, CSS, Salesforce (APEX, VF pages, others Components) • Handling Deployment to Production Via CI/ANT Migration Tools. • Good Implementation Knowledge of Lighting, Data Loader. • Hands-on in Marketing cloud. • Good Implementation Knowledge in SOAP Web service. • Good Knowledge in AGILE Methodology and JIRA Tool. • Certified as Platform developer-1. • Currently working on SALESFORCE/CLOUDSENSE technology and pursuing SUPERBADGE in APEX and LIGHTNING Concepts.  WORK EXPERIENCE  System Engineer  Infosys Limited -  January 2017 to Present  Environment: Salesforce, Cloud Sense, APEX, SOQL, GIT, Bit Bucket, AGILE  Responsibilities: • Interaction with the onshore team to understand the requirement as per clients and functional requirement document. • Preparation of solution document, component list and high level estimation of the tasks created under sprints. • Technical Refinement's for User stories.  Contributions: • Developed and integrated the different modules developed by other team members. • Wrote the Tech specifications document, Created Class diagrams and Flow Diagram using functional requirement document. • Developed and deployed Lightening components. • Created Apex class, VF pages, Workflows, process builder, approval Process and other components. • Integration of Sales cloud with other third Party vendors. • Designed Solution Documentations. • Deployments to Production and other Intermediate environments. • Support in SIT testing and production issues.  System Engineer  https://www.indeed.com/r/Shubham-Mittal/4b29ab0545b0f67f?isid=rex-download&ikw=download-top&co=IN   Infosys Limited -  Mysore, Karnataka -  June 2016 to Present  EDUCATION  B.Tech in EEE  National Institute Of Technology  2016  St. John's School  2009  SKILLS  Html, Css, Javascript, Salesforce\",\n",
       " {'entities': [(2197, 2231, 'Skills'),\n",
       "   (2184, 2188, 'Graduation Year'),\n",
       "   (2164, 2183, 'College Name'),\n",
       "   (2159, 2163, 'Graduation Year'),\n",
       "   (2125, 2158, 'College Name'),\n",
       "   (2110, 2123, 'Degree'),\n",
       "   (2082, 2086, 'Graduation Year'),\n",
       "   (2056, 2062, 'Location'),\n",
       "   (1920, 1935, 'Designation'),\n",
       "   (916, 931, 'Designation'),\n",
       "   (261, 276, 'Designation'),\n",
       "   (194, 209, 'Designation'),\n",
       "   (144, 154, 'Years of Experience'),\n",
       "   (90, 135, 'Email Address'),\n",
       "   (50, 56, 'Location'),\n",
       "   (32, 48, 'Companies worked at'),\n",
       "   (15, 30, 'Designation'),\n",
       "   (0, 14, 'Name')]})"
      ]
     },
     "execution_count": 13,
     "metadata": {},
     "output_type": "execute_result"
    }
   ],
   "source": [
    "train_data[0]"
   ]
  },
  {
   "cell_type": "code",
   "execution_count": 15,
   "metadata": {},
   "outputs": [
    {
     "data": {
      "text/plain": [
       "\"Shubham Mittal System Engineer - Infosys Limited  Mysore, Karnataka - Email me on Indeed: indeed.com/r/Shubham-Mittal/4b29ab0545b0f67f  • Having 2.0 Years of Experience as a Software Developer (System Engineer) in the IT industry. • Presently working as Senior System Engineer. • Functionally Good with Complete Order fulfillment's journey including Sales and service Cloud. • Expertise in implementing SQL, SOQL, SOSL, HTML, JavaScript, CSS, Salesforce (APEX, VF pages, others Components) • Handling Deployment to Production Via CI/ANT Migration Tools. • Good Implementation Knowledge of Lighting, Data Loader. • Hands-on in Marketing cloud. • Good Implementation Knowledge in SOAP Web service. • Good Knowledge in AGILE Methodology and JIRA Tool. • Certified as Platform developer-1. • Currently working on SALESFORCE/CLOUDSENSE technology and pursuing SUPERBADGE in APEX and LIGHTNING Concepts.  WORK EXPERIENCE  System Engineer  Infosys Limited -  January 2017 to Present  Environment: Salesforce, Cloud Sense, APEX, SOQL, GIT, Bit Bucket, AGILE  Responsibilities: • Interaction with the onshore team to understand the requirement as per clients and functional requirement document. • Preparation of solution document, component list and high level estimation of the tasks created under sprints. • Technical Refinement's for User stories.  Contributions: • Developed and integrated the different modules developed by other team members. • Wrote the Tech specifications document, Created Class diagrams and Flow Diagram using functional requirement document. • Developed and deployed Lightening components. • Created Apex class, VF pages, Workflows, process builder, approval Process and other components. • Integration of Sales cloud with other third Party vendors. • Designed Solution Documentations. • Deployments to Production and other Intermediate environments. • Support in SIT testing and production issues.  System Engineer  https://www.indeed.com/r/Shubham-Mittal/4b29ab0545b0f67f?isid=rex-download&ikw=download-top&co=IN   Infosys Limited -  Mysore, Karnataka -  June 2016 to Present  EDUCATION  B.Tech in EEE  National Institute Of Technology  2016  St. John's School  2009  SKILLS  Html, Css, Javascript, Salesforce\""
      ]
     },
     "execution_count": 15,
     "metadata": {},
     "output_type": "execute_result"
    }
   ],
   "source": [
    "train_data[0][0]\n",
    "            "
   ]
  },
  {
   "cell_type": "code",
   "execution_count": 18,
   "metadata": {},
   "outputs": [
    {
     "name": "stdout",
     "output_type": "stream",
     "text": [
      "NAME                          -Shubham Mittal\n",
      "DESIGNATION                   -System Engineer\n",
      "COMPANIES WORKED AT           -Infosys Limited\n",
      "LOCATION                      -Mysore\n",
      "EMAIL ADDRESS                 -indeed.com/r/Shubham-Mittal/4b29ab0545b0f67f\n",
      "DESIGNATION                   -Software Developer (System Engineer)\n",
      "DESIGNATION                   -System Engineer\n",
      "COMPANIES WORKED AT           -Infosys Limited\n",
      "COMPANIES WORKED AT           -Infosys Limited\n",
      "GRADUATION YEAR               -2016\n",
      "DEGREE                        -B.Tech in EEE\n",
      "COLLEGE NAME                  -National Institute Of Technology  2016\n",
      "SKILLS                        -Html, Css, Javascript, Salesforce\n"
     ]
    }
   ],
   "source": [
    "doc = nlp_model(train_data[0][0])\n",
    "for ent in doc.ents:\n",
    "    print(f'{ent.label_.upper():{30}}-{ent.text}')\n"
   ]
  },
  {
   "cell_type": "code",
   "execution_count": null,
   "metadata": {},
   "outputs": [],
   "source": [
    "### pip install PyMuPDF\n",
    "\"open with pdf file\"\n",
    "# import sys,fitz\n",
    "# fname = 'Alice Clark CV.pdf'\n",
    "# doc =fitz.open(fname)"
   ]
  },
  {
   "cell_type": "code",
   "execution_count": 151,
   "metadata": {},
   "outputs": [
    {
     "name": "stdout",
     "output_type": "stream",
     "text": [
      "Alice Clark  AI / Machine Learning    Delhi, India Email me on Indeed    20+ years of experience in data handling, design, and development    Data Warehouse: Data analysis, star/snow flake scema data modelling and design specific to  data warehousing and business intelligence    Database: Experience in database designing, scalability, back-up and recovery, writing and  optimizing SQL code and Stored Procedures, creating functions, views, triggers and indexes.  Cloud platform: Worked on Microsoft Azure cloud services like Document DB, SQL Azure,  Stream Analytics, Event hub, Power BI, Web Job, Web App, Power BI, Azure data lake  analytics(U-SQL)  Willing to relocate anywhere    WORK EXPERIENCE  Software Engineer  Microsoft “ Bangalore, Karnataka  January 2000 to Present  1. Microsoft Rewards Live dashboards:  Description: - Microsoft rewards is loyalty program that rewards Users for browsing and shopping  online. Microsoft Rewards members can earn points when searching with Bing, browsing with  Microsoft Edge and making purchases at the Xbox Store, the Windows Store and the Microsoft  Store. Plus, user can pick up bonus points for taking daily quizzes and tours on the Microsoft  rewards website. Rewards live dashboards gives a live picture of usage world-wide and by  markets like US, Canada, Australia, new user registration count, top/bottom performing rewards  offers, orders stats and weekly trends of user activities, orders and new user registrations. the  PBI tiles gets refreshed in different frequencies starting from 5 seconds to 30 minutes.  Technology/Tools used    EDUCATION  Indian Institute of Technology “ Mumbai  2001    SKILLS  Machine Learning, Natural Language Processing, and Big Data Handling    \f",
      "ADDITIONAL INFORMATION  Professional Skills   Excellent analytical, problem solving, communication, knowledge transfer and interpersonal  skills with ability to interact with individuals at all the levels   Quick learner and maintains cordial relationship with project manager and team members and  good performer both in team and independent job environments   Positive attitude towards superiors &amp; peers   Supervised junior developers throughout project lifecycle and provided technical assistance  \f",
      "\n"
     ]
    }
   ],
   "source": [
    "\"testing model with Alice Clark CV \"\n",
    "\n",
    "with open('Alice Clark CV.txt') as doc:\n",
    "\n",
    "    text = \"\"\n",
    "    for page in doc.read():\n",
    "        \n",
    "        page = page.strip('â€¢')\n",
    "        text = text + str(page)\n",
    "    \n",
    "    \n",
    "    tx = \" \".join(text.split('\\n'))\n",
    "    print(tx)\n"
   ]
  },
  {
   "cell_type": "code",
   "execution_count": null,
   "metadata": {},
   "outputs": [],
   "source": []
  },
  {
   "cell_type": "code",
   "execution_count": 152,
   "metadata": {},
   "outputs": [
    {
     "name": "stdout",
     "output_type": "stream",
     "text": [
      "NAME                          -Alice Clark\n",
      "LOCATION                      -Delhi\n",
      "DESIGNATION                   -Software Engineer\n",
      "COMPANIES WORKED AT           -Microsoft\n",
      "LOCATION                      -Bangalore\n",
      "COMPANIES WORKED AT           -Microsoft\n",
      "COMPANIES WORKED AT           -Microsoft\n",
      "COMPANIES WORKED AT           -Microsoft\n",
      "COMPANIES WORKED AT           -Microsoft\n",
      "COMPANIES WORKED AT           -Microsoft\n",
      "COLLEGE NAME                  -Indian Institute of Technology “ Mumbai\n",
      "SKILLS                        -Machine Learning, Natural Language Processing, and Big Data Handling    \f",
      "ADDITIONAL INFORMATION  Professional Skills   Excellent analytical, problem solving, communication, knowledge transfer and interpersonal  skills with ability to interact with individuals at all the levels   Quick learner and maintains cordial relationship with project manager and team members and  good performer both in team and independent job environments   Positive attitude towards superiors &amp; peers   Supervised junior developers throughout project lifecycle and provided technical assistance\n"
     ]
    }
   ],
   "source": [
    "\"using trained model to parse resume information\"\n",
    "doc = nlp_model(tx)\n",
    "for ent in doc.ents:\n",
    "    print(f'{ent.label_.upper():{30}}-{ent.text}')\n"
   ]
  },
  {
   "cell_type": "code",
   "execution_count": null,
   "metadata": {},
   "outputs": [],
   "source": []
  }
 ],
 "metadata": {
  "kernelspec": {
   "display_name": "Python 3",
   "language": "python",
   "name": "python3"
  },
  "language_info": {
   "codemirror_mode": {
    "name": "ipython",
    "version": 3
   },
   "file_extension": ".py",
   "mimetype": "text/x-python",
   "name": "python",
   "nbconvert_exporter": "python",
   "pygments_lexer": "ipython3",
   "version": "3.7.3"
  }
 },
 "nbformat": 4,
 "nbformat_minor": 4
}
